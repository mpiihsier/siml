{
 "cells": [
  {
   "cell_type": "markdown",
   "metadata": {},
   "source": [
    "# Using Spectrogram to visualize the nonstationary frequency response of the signal\n",
    "\n",
    "## 0. Introduction\n",
    "Given signal of length L, and the STFT parameters:\n",
    "1. Window length, $M$\n",
    "2. Shift/stride, $R$ ($ 1 \\le R \\le M $, for no loss of information)\n",
    "3. FFT size, $N$ ($N\\ge M$, for our purpose, $ N=M $)\n",
    "Then # segments, $K$, will be $ K=\\lfloor (L-M)/R \\rfloor$\n",
    "In our problem, our data samples have $L=128$, which limits our options for window length. If we choose a large $M$ necessary for finer resolution of the frequency components (say $M\\ge L$ with zero-padding or over-sampling), we would lose the temporal information of when the frequency peaks occur. So we will make the following tradeoff: $N=M=32$, $R=2$. Furthermore prefix and suffix $M/2$ samples to the signal frame to also fully incorporate the spectral behavior at the edges (when using tapered windows), thus $L'=128+N=160$. With these parameters and adjustments, $K=64$. Thus the inputs to our CNN classifier will be $(M/2)xK=16x64$ spectrogram images."
   ]
  },
  {
   "cell_type": "code",
   "execution_count": 1,
   "metadata": {},
   "outputs": [],
   "source": [
    "import os\n",
    "import numpy as np\n",
    "from scipy import signal\n",
    "from scipy.fftpack import fft\n",
    "from scipy.fft import fftshift\n",
    "import matplotlib.pyplot as plt\n",
    "import matplotlib.gridspec as gridspec\n",
    "from mpl_toolkits.axes_grid1 import make_axes_locatable\n",
    "import matplotlib.patches as patches\n",
    "import itertools"
   ]
  },
  {
   "cell_type": "markdown",
   "metadata": {},
   "source": [
    "##. Loading the UCI HAR dataset into an numpy ndarray\n",
    "Download dataset from https://archive.ics.uci.edu/ml/datasets/Human+Activity+Recognition+Using+Smartphones"
   ]
  },
  {
   "cell_type": "code",
   "execution_count": 57,
   "metadata": {},
   "outputs": [],
   "source": [
    "def read_signals(filename):\n",
    "    with open(filename, 'r') as fp:\n",
    "        data = fp.read().splitlines()\n",
    "        data = map(lambda x: x.strip().split(), data)\n",
    "        data = [list(map(float, line)) for line in data]\n",
    "    return data\n",
    "\n",
    "DATA_FOLDER = '../../UCI HAR Dataset/'\n",
    "INPUT_FOLDER_TRAIN = DATA_FOLDER+'train/Inertial Signals/'\n",
    "INPUT_FILES_TRAIN = ['body_acc_x_train.txt']\n",
    "\n",
    "train_signals = []\n",
    "\n",
    "for input_file in INPUT_FILES_TRAIN:\n",
    "    sig = read_signals(INPUT_FOLDER_TRAIN + input_file)\n",
    "    train_signals.append(sig)\n",
    "train_signals = np.transpose(train_signals, (1, 2, 0))\n",
    "train_signals = np.squeeze(train_signals)\n",
    "[no_signals_train, N] = np.shape(train_signals)\n",
    "time = np.arange(N)\n",
    "xsignal = train_signals[10]"
   ]
  },
  {
   "cell_type": "markdown",
   "metadata": {},
   "source": [
    "## 1. Plot one signal from the UCI HAR dataset"
   ]
  },
  {
   "cell_type": "code",
   "execution_count": null,
   "metadata": {},
   "outputs": [],
   "source": [
    "# First lets plot a signal frame together with its time-average\n",
    "\n",
    "def get_ave_values(xvalues, yvalues, n = 5):\n",
    "    signal_length = len(xvalues)\n",
    "    if signal_length % n == 0:\n",
    "        padding_length = 0\n",
    "    else:\n",
    "        padding_length = n - signal_length//n % n\n",
    "    xarr = np.array(xvalues)\n",
    "    yarr = np.array(yvalues)\n",
    "    xarr.resize(signal_length//n, n)\n",
    "    yarr.resize(signal_length//n, n)\n",
    "    xarr_reshaped = xarr.reshape((-1,n))\n",
    "    yarr_reshaped = yarr.reshape((-1,n))\n",
    "    x_ave = xarr_reshaped[:,0]\n",
    "    y_ave = np.nanmean(yarr_reshaped, axis=1)\n",
    "    return x_ave, y_ave\n",
    "\n",
    "def plot_signal_plus_average(ax, time, sig, average_over = 5):\n",
    "    time_ave, signal_ave = get_ave_values(time, sig, average_over)\n",
    "    ax.plot(time, sig, label='signal')\n",
    "    ax.plot(time_ave, signal_ave, label = 'time average (n={})'.format(5))\n",
    "    ax.set_xlim([time[0], time[-1]])\n",
    "    ax.set_ylabel('Amplitude', fontsize=16)\n",
    "    ax.set_title('Signal + Time Average', fontsize=16)\n",
    "    ax.legend(loc='upper right')\n",
    "\n",
    "fig, ax = plt.subplots(figsize=(12,3))\n",
    "plot_signal_plus_average(ax, time, xsignal, average_over = 3)\n",
    "plt.show()"
   ]
  },
  {
   "cell_type": "markdown",
   "metadata": {},
   "source": [
    "## 2. Plot the Fourier Transform of the body acceleration signal"
   ]
  },
  {
   "cell_type": "code",
   "execution_count": null,
   "metadata": {},
   "outputs": [],
   "source": [
    "def get_fft_values(y_values, T, N, f_s):\n",
    "    N2 = 2 ** (int(np.log2(N)) + 1) # round up to next highest power of 2\n",
    "    f_values = np.linspace(0.0, 1.0/(2.0*T), N2//2)\n",
    "    fft_values_ = fft(y_values)\n",
    "    fft_values = 2.0/N2 * np.abs(fft_values_[0:N2//2])\n",
    "    return f_values, fft_values\n",
    "\n",
    "def plot_fft_plus_power(ax, time, sig, yticks=None, ylim=None):\n",
    "    dt = time[1] - time[0]\n",
    "    N = len(sig)\n",
    "    fs = 1/dt\n",
    "    \n",
    "    variance = np.std(sig)**2\n",
    "    f_values, fft_values = get_fft_values(sig, dt, N, fs)\n",
    "    fft_power = variance * abs(fft_values) ** 2\n",
    "    ax.plot(f_values, fft_values, 'r-', label='Fourier Transform')\n",
    "    ax.plot(f_values, fft_power, 'k--', linewidth=1, label='FFT Power Spectrum')\n",
    "    ax.legend()\n",
    "\n",
    "fig, ax = plt.subplots(figsize=(12,3))\n",
    "ax.set_xlabel('Frequency [Hz / year]', fontsize=18)\n",
    "ax.set_ylabel('Amplitude', fontsize=18)\n",
    "plot_fft_plus_power(ax, time, xsignal)\n",
    "plt.show()"
   ]
  },
  {
   "cell_type": "markdown",
   "metadata": {},
   "source": [
    "## 3. Plot the Spectrogram"
   ]
  },
  {
   "cell_type": "code",
   "execution_count": null,
   "metadata": {},
   "outputs": [],
   "source": [
    "def plot_spectrogram(ax, sig, M, noverlap, fs=1.0, windowname = ('tukey',.25),\n",
    "                 cmap = plt.cm.seismic, title = '', ylabel = '', xlabel = ''):\n",
    "    \n",
    "    f, t, Sxx = signal.spectrogram(sig, fs, window=windowname, nperseg=M, noverlap=noverlap)\n",
    "    plt.pcolormesh(t, f, Sxx, shading='nearest')\n",
    "    ax.set_title(title, fontsize=20)\n",
    "    ax.set_ylabel(ylabel, fontsize=18)\n",
    "    ax.set_xlabel(xlabel, fontsize=18)\n",
    "    return f,t,Sxx\n",
    "\n",
    "title = 'Spectrogram (Power Spectrum)'\n",
    "ylabel = 'Frequency'\n",
    "xlabel = 'Time'\n",
    "M = 32\n",
    "noverlap = M-2\n",
    "fig, ax = plt.subplots(figsize=(10, 10))\n",
    "f,t,Sxx = plot_spectrogram(ax, xsignal, M, noverlap, xlabel=xlabel, ylabel=ylabel, title=title)\n",
    "plt.show()"
   ]
  },
  {
   "cell_type": "code",
   "execution_count": 65,
   "metadata": {},
   "outputs": [
    {
     "data": {
      "text/plain": [
       "(32, 17, 97)"
      ]
     },
     "execution_count": 65,
     "metadata": {},
     "output_type": "execute_result"
    }
   ],
   "source": [
    "M,len(f),len(t)"
   ]
  },
  {
   "cell_type": "code",
   "execution_count": null,
   "metadata": {},
   "outputs": [],
   "source": []
  }
 ],
 "metadata": {
  "kernelspec": {
   "display_name": "Python 3",
   "language": "python",
   "name": "python3"
  },
  "language_info": {
   "codemirror_mode": {
    "name": "ipython",
    "version": 3
   },
   "file_extension": ".py",
   "mimetype": "text/x-python",
   "name": "python",
   "nbconvert_exporter": "python",
   "pygments_lexer": "ipython3",
   "version": "3.8.5"
  }
 },
 "nbformat": 4,
 "nbformat_minor": 4
}
