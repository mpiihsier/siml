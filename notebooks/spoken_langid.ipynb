{
 "cells": [
  {
   "cell_type": "code",
   "execution_count": 2,
   "metadata": {},
   "outputs": [],
   "source": [
    "import os\n",
    "import pandas as pd\n",
    "import soundfile as sf\n",
    "from collections import Counter\n",
    "import scipy.signal as signal\n",
    "import matplotlib.pyplot as plt\n",
    "import gc\n",
    "import IPython.display as ipd "
   ]
  },
  {
   "cell_type": "markdown",
   "metadata": {},
   "source": [
    "Download the dataset from https://www.kaggle.com/toponowicz/spoken-language-identification"
   ]
  },
  {
   "cell_type": "code",
   "execution_count": null,
   "metadata": {},
   "outputs": [
    {
     "name": "stdout",
     "output_type": "stream",
     "text": [
      "('de_f', 0)\n",
      "('es_f', 1)\n",
      "('en_m', 2)\n",
      "('en_f', 3)\n",
      "('de_m', 4)\n",
      "('es_m', 5)\n"
     ]
    }
   ],
   "source": [
    "DATA_FOLDER = '../datasets/langid/'\n",
    "train_path = DATA_FOLDER+'/train/'\n",
    "test_path = DATA_FOLDER+'/test/'\n",
    "\n",
    "#para train path\n",
    "train_labels = []\n",
    "for filename in os.listdir(train_path):\n",
    "    train_labels.append(filename[:4]) # [:4] file naming convention, f.e. es_f\n",
    "# Create numeric labels\n",
    "lb=0\n",
    "label_d={}\n",
    "for k in Counter(train_labels).keys():\n",
    "    label_d[k] = lb\n",
    "    lb=lb +1\n",
    "for x in label_d.items():\n",
    "    print(x)\n",
    "\n",
    "# Create the labeled training and test data\n",
    "x_train=[]\n",
    "y_train=[]\n",
    "for filename in os.listdir(train_path):\n",
    "    y_train.append(label_d[filename[:4]])\n",
    "    x_train.append(sf.read(train_path+filename))\n",
    "\n",
    "x_test=[]\n",
    "y_test=[]\n",
    "for filename in os.listdir(test_path):\n",
    "    y_test.append(label_d[filename[:4]])\n",
    "    x_test.append(sf.read(test_path+filename))\n",
    "\n",
    "\n",
    "no_train = len(x_train)\n",
    "no_test = len(x_test)\n",
    "no_labels = len(np.unique(x_train))\n",
    "\n",
    "print('# training samples {}'.format(no_train))\n",
    "print('# test samples {}'.format(no_test))\n",
    "print('# uniques labels {}'.format(no_labels))\n",
    "\n"
   ]
  },
  {
   "cell_type": "code",
   "execution_count": null,
   "metadata": {},
   "outputs": [],
   "source": []
  }
 ],
 "metadata": {
  "kernelspec": {
   "display_name": "Python 3",
   "language": "python",
   "name": "python3"
  },
  "language_info": {
   "codemirror_mode": {
    "name": "ipython",
    "version": 3
   },
   "file_extension": ".py",
   "mimetype": "text/x-python",
   "name": "python",
   "nbconvert_exporter": "python",
   "pygments_lexer": "ipython3",
   "version": "3.8.5"
  }
 },
 "nbformat": 4,
 "nbformat_minor": 4
}
