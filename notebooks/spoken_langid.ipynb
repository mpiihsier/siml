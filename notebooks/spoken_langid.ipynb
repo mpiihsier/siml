{
 "cells": [
  {
   "cell_type": "code",
   "execution_count": 4,
   "metadata": {},
   "outputs": [],
   "source": [
    "import os\n",
    "import pandas as pd\n",
    "import soundfile as sf\n",
    "from collections import Counter\n",
    "import scipy.signal as signal\n",
    "import matplotlib.pyplot as plt\n",
    "import gc\n",
    "import IPython.display as ipd "
   ]
  },
  {
   "cell_type": "markdown",
   "metadata": {},
   "source": [
    "Download the dataset from https://www.kaggle.com/toponowicz/spoken-language-identification"
   ]
  },
  {
   "cell_type": "code",
   "execution_count": 6,
   "metadata": {},
   "outputs": [],
   "source": [
    "DATA_FOLDER = '../datasets/langid/'\n",
    "train_path = DATA_FOLDER+'/train/'\n",
    "test_path = DATA_FOLDER+'/test/'\n",
    "\n",
    "#para train path\n",
    "train_labels = []\n",
    "for filename in os.listdir(train_path):\n",
    "    train_labels.append(filename[:4]) # [:4] file naming convention, f.e. es_f\n",
    "test_labels = []\n",
    "for filename in os.listdir(test_path):\n",
    "    test_labels.append(filename[:4])\n",
    "\n",
    "train_files = []\n",
    "for filename in os.listdir(train_path):\n",
    "    train_files.append(filename)\n",
    "test_files = []\n",
    "for filename in os.listdir(test_path):\n",
    "    test_files.append(filename)\n",
    "\n",
    "# Create numeric labels\n",
    "lb=0\n",
    "label_d={}\n",
    "for k in Counter(train_labels).keys():\n",
    "    label_d[k] = lb\n",
    "    lb=lb +1\n",
    "\n",
    "\n",
    "train_data = {'filename':train_files,\n",
    "       'lang_gender':train_labels}\n",
    "train_df = pd.DataFrame(train_data)\n",
    "test_data = {'filename':test_files,\n",
    "       'lang_gender':test_labels}\n",
    "test_df = pd.DataFrame(test_data)"
   ]
  },
  {
   "cell_type": "code",
   "execution_count": 7,
   "metadata": {},
   "outputs": [
    {
     "data": {
      "text/html": [
       "<div>\n",
       "<style scoped>\n",
       "    .dataframe tbody tr th:only-of-type {\n",
       "        vertical-align: middle;\n",
       "    }\n",
       "\n",
       "    .dataframe tbody tr th {\n",
       "        vertical-align: top;\n",
       "    }\n",
       "\n",
       "    .dataframe thead th {\n",
       "        text-align: right;\n",
       "    }\n",
       "</style>\n",
       "<table border=\"1\" class=\"dataframe\">\n",
       "  <thead>\n",
       "    <tr style=\"text-align: right;\">\n",
       "      <th></th>\n",
       "      <th>filename</th>\n",
       "      <th>language</th>\n",
       "    </tr>\n",
       "  </thead>\n",
       "  <tbody>\n",
       "    <tr>\n",
       "      <th>0</th>\n",
       "      <td>en_f_67a0cba10d171b24039a79faa1d4d603.fragment...</td>\n",
       "      <td>en_f</td>\n",
       "    </tr>\n",
       "    <tr>\n",
       "      <th>1</th>\n",
       "      <td>en_m_b74b2bf2af570393cae91f4ed89cece7.fragment...</td>\n",
       "      <td>en_m</td>\n",
       "    </tr>\n",
       "    <tr>\n",
       "      <th>2</th>\n",
       "      <td>en_f_67a0cba10d171b24039a79faa1d4d603.fragment...</td>\n",
       "      <td>en_f</td>\n",
       "    </tr>\n",
       "    <tr>\n",
       "      <th>3</th>\n",
       "      <td>de_f_63f5b79c76cf5a1a4bbd1c40f54b166e.fragment...</td>\n",
       "      <td>de_f</td>\n",
       "    </tr>\n",
       "    <tr>\n",
       "      <th>4</th>\n",
       "      <td>de_m_923551d571cc437382d0294dda2dd0aa.fragment...</td>\n",
       "      <td>de_m</td>\n",
       "    </tr>\n",
       "  </tbody>\n",
       "</table>\n",
       "</div>"
      ],
      "text/plain": [
       "                                            filename language\n",
       "0  en_f_67a0cba10d171b24039a79faa1d4d603.fragment...     en_f\n",
       "1  en_m_b74b2bf2af570393cae91f4ed89cece7.fragment...     en_m\n",
       "2  en_f_67a0cba10d171b24039a79faa1d4d603.fragment...     en_f\n",
       "3  de_f_63f5b79c76cf5a1a4bbd1c40f54b166e.fragment...     de_f\n",
       "4  de_m_923551d571cc437382d0294dda2dd0aa.fragment...     de_m"
      ]
     },
     "execution_count": 7,
     "metadata": {},
     "output_type": "execute_result"
    }
   ],
   "source": [
    "test_df.head()"
   ]
  },
  {
   "cell_type": "code",
   "execution_count": 8,
   "metadata": {},
   "outputs": [
    {
     "name": "stdout",
     "output_type": "stream",
     "text": [
      "('de_f', 0)\n",
      "('es_f', 1)\n",
      "('en_m', 2)\n",
      "('en_f', 3)\n",
      "('de_m', 4)\n",
      "('es_m', 5)\n"
     ]
    }
   ],
   "source": [
    "# Create numeric labels\n",
    "lb=0\n",
    "label_d={}\n",
    "for k in Counter(train_labels).keys():\n",
    "    label_d[k] = lb\n",
    "    lb=lb +1\n",
    "for x in label_d.items():\n",
    "    print(x)"
   ]
  },
  {
   "cell_type": "code",
   "execution_count": null,
   "metadata": {},
   "outputs": [
    {
     "name": "stdout",
     "output_type": "stream",
     "text": [
      "('de_f', 0)\n",
      "('es_f', 1)\n",
      "('en_m', 2)\n",
      "('en_f', 3)\n",
      "('de_m', 4)\n",
      "('es_m', 5)\n"
     ]
    }
   ],
   "source": [
    "# Create the labeled training and test data\n",
    "x_train=[]\n",
    "y_train=[]\n",
    "for filename in os.listdir(train_path):\n",
    "    y_train.append(label_d[filename[:4]])\n",
    "    x_train.append(sf.read(train_path+filename))\n",
    "\n",
    "x_test=[]\n",
    "y_test=[]\n",
    "for filename in os.listdir(test_path):\n",
    "    y_test.append(label_d[filename[:4]])\n",
    "    x_test.append(sf.read(test_path+filename))\n",
    "\n",
    "\n",
    "no_train = len(x_train)\n",
    "no_test = len(x_test)\n",
    "no_labels = len(np.unique(x_train))\n",
    "\n",
    "print('# training samples {}'.format(no_train))\n",
    "print('# test samples {}'.format(no_test))\n",
    "print('# uniques labels {}'.format(no_labels))"
   ]
  },
  {
   "cell_type": "code",
   "execution_count": 2,
   "metadata": {},
   "outputs": [
    {
     "ename": "NameError",
     "evalue": "name 'np' is not defined",
     "output_type": "error",
     "traceback": [
      "\u001b[0;31m---------------------------------------------------------------------------\u001b[0m",
      "\u001b[0;31mNameError\u001b[0m                                 Traceback (most recent call last)",
      "\u001b[0;32m<ipython-input-2-21b7c933edf3>\u001b[0m in \u001b[0;36m<module>\u001b[0;34m\u001b[0m\n\u001b[0;32m----> 1\u001b[0;31m \u001b[0mnp\u001b[0m\u001b[0;34m.\u001b[0m\u001b[0mshape\u001b[0m\u001b[0;34m(\u001b[0m\u001b[0mx_train\u001b[0m\u001b[0;34m)\u001b[0m\u001b[0;34m\u001b[0m\u001b[0;34m\u001b[0m\u001b[0m\n\u001b[0m",
      "\u001b[0;31mNameError\u001b[0m: name 'np' is not defined"
     ]
    }
   ],
   "source": [
    "np.shape(x_train)"
   ]
  },
  {
   "cell_type": "code",
   "execution_count": null,
   "metadata": {},
   "outputs": [],
   "source": []
  }
 ],
 "metadata": {
  "kernelspec": {
   "display_name": "Python 3",
   "language": "python",
   "name": "python3"
  },
  "language_info": {
   "codemirror_mode": {
    "name": "ipython",
    "version": 3
   },
   "file_extension": ".py",
   "mimetype": "text/x-python",
   "name": "python",
   "nbconvert_exporter": "python",
   "pygments_lexer": "ipython3",
   "version": "3.8.5"
  }
 },
 "nbformat": 4,
 "nbformat_minor": 4
}
