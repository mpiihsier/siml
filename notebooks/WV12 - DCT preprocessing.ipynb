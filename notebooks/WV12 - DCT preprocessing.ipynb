{
 "cells": [
  {
   "cell_type": "markdown",
   "metadata": {},
   "source": [
    "### This jupyter notebooks provides the code for classifying signals using the Discrete Cosine Transform (type-2).\n",
    "### To get some more background information, please have a look at the accompanying blog-post:\n",
    "### http://ataspinar.com/2018/12/21/a-guide-for-using-the-wavelet-transform-in-machine-learning/"
   ]
  },
  {
   "cell_type": "code",
   "execution_count": 1,
   "metadata": {},
   "outputs": [],
   "source": [
    "import os\n",
    "from time import perf_counter\n",
    "import numpy as np\n",
    "from scipy.fftpack import dct\n",
    "\n",
    "import matplotlib.pyplot as plt\n",
    "from collections import defaultdict, Counter\n",
    "\n",
    "import keras\n",
    "from keras.layers import Conv1D, BatchNormalization, Dense, Flatten, Activation\n",
    "from tensorflow.keras.layers.experimental import preprocessing\n",
    "from keras.models import Sequential\n",
    "from keras.callbacks import History, EarlyStopping\n",
    "history = History()"
   ]
  },
  {
   "cell_type": "markdown",
   "metadata": {},
   "source": [
    "# 1. Loading the UCI HAR dataset\n",
    "download dataset from https://archive.ics.uci.edu/ml/datasets/Human+Activity+Recognition+Using+Smartphones"
   ]
  },
  {
   "cell_type": "code",
   "execution_count": 2,
   "metadata": {},
   "outputs": [
    {
     "name": "stdout",
     "output_type": "stream",
     "text": [
      "The train dataset contains 7352 signals, each one of length 128 and 9 components \n",
      "The test dataset contains 7352 signals, each one of length 128 and 9 components \n",
      "The train dataset contains 7352 labels, with the following distribution:\n",
      " Counter({5: 1407, 4: 1374, 3: 1286, 0: 1226, 1: 1073, 2: 986})\n",
      "The test dataset contains 2947 labels, with the following distribution:\n",
      " Counter({5: 537, 4: 532, 0: 496, 3: 491, 1: 471, 2: 420})\n"
     ]
    }
   ],
   "source": [
    "activities_description = {\n",
    "    1: 'walking',\n",
    "    2: 'walking upstairs',\n",
    "    3: 'walking downstairs',\n",
    "    4: 'sitting',\n",
    "    5: 'standing',\n",
    "    6: 'laying'\n",
    "}\n",
    "\n",
    "def read_signals(filename):\n",
    "    with open(filename, 'r') as fp:\n",
    "        data = fp.read().splitlines()\n",
    "        data = map(lambda x: x.rstrip().lstrip().split(), data)\n",
    "        data = [list(map(float, line)) for line in data]\n",
    "    return data\n",
    "\n",
    "def read_labels(filename):        \n",
    "    with open(filename, 'r') as fp:\n",
    "        activities = fp.read().splitlines()\n",
    "        activities = list(map(lambda x: int(x)-1, activities))\n",
    "    return activities\n",
    "\n",
    "def randomize(dataset, labels):\n",
    "    permutation = np.random.permutation(labels.shape[0])\n",
    "    shuffled_dataset = dataset[permutation, :, :]\n",
    "    shuffled_labels = labels[permutation]\n",
    "    return shuffled_dataset, shuffled_labels\n",
    "\n",
    "DATA_FOLDER = '../datasets/UCI HAR Dataset/'\n",
    "INPUT_FOLDER_TRAIN = DATA_FOLDER+'train/Inertial Signals/'\n",
    "INPUT_FOLDER_TEST = DATA_FOLDER+'test/Inertial Signals/'\n",
    "\n",
    "INPUT_FILES_TRAIN = ['body_acc_x_train.txt', 'body_acc_y_train.txt', 'body_acc_z_train.txt', \n",
    "                     'body_gyro_x_train.txt', 'body_gyro_y_train.txt', 'body_gyro_z_train.txt',\n",
    "                     'total_acc_x_train.txt', 'total_acc_y_train.txt', 'total_acc_z_train.txt']\n",
    "\n",
    "INPUT_FILES_TEST = ['body_acc_x_test.txt', 'body_acc_y_test.txt', 'body_acc_z_test.txt', \n",
    "                     'body_gyro_x_test.txt', 'body_gyro_y_test.txt', 'body_gyro_z_test.txt',\n",
    "                     'total_acc_x_test.txt', 'total_acc_y_test.txt', 'total_acc_z_test.txt']\n",
    "\n",
    "LABELFILE_TRAIN = DATA_FOLDER+'train/y_train.txt'\n",
    "LABELFILE_TEST = DATA_FOLDER+'test/y_test.txt'\n",
    "\n",
    "train_signals, test_signals = [], []\n",
    "\n",
    "for input_file in INPUT_FILES_TRAIN:\n",
    "    signal = read_signals(INPUT_FOLDER_TRAIN + input_file)\n",
    "    train_signals.append(signal)\n",
    "train_signals = np.transpose(np.array(train_signals), (1, 2, 0))\n",
    "\n",
    "for input_file in INPUT_FILES_TEST:\n",
    "    signal = read_signals(INPUT_FOLDER_TEST + input_file)\n",
    "    test_signals.append(signal)\n",
    "test_signals = np.transpose(np.array(test_signals), (1, 2, 0))\n",
    "\n",
    "train_labels = read_labels(LABELFILE_TRAIN)\n",
    "test_labels = read_labels(LABELFILE_TEST)\n",
    "\n",
    "[no_signals_train, no_steps_train, no_components_train] = np.shape(train_signals)\n",
    "[no_signals_test, no_steps_test, no_components_test] = np.shape(train_signals)\n",
    "no_labels = len(np.unique(train_labels[:]))\n",
    "\n",
    "print(\"The train dataset contains {} signals, each one of length {} and {} components \".format(no_signals_train, no_steps_train, no_components_train))\n",
    "print(\"The test dataset contains {} signals, each one of length {} and {} components \".format(no_signals_test, no_steps_test, no_components_test))\n",
    "print(\"The train dataset contains {} labels, with the following distribution:\\n {}\".format(np.shape(train_labels)[0], Counter(train_labels[:])))\n",
    "print(\"The test dataset contains {} labels, with the following distribution:\\n {}\".format(np.shape(test_labels)[0], Counter(test_labels[:])))\n",
    "\n",
    "uci_har_signals_train, uci_har_labels_train = randomize(train_signals, np.array(train_labels))\n",
    "uci_har_signals_test, uci_har_labels_test = randomize(test_signals, np.array(test_labels))"
   ]
  },
  {
   "cell_type": "markdown",
   "metadata": {},
   "source": [
    "# 2. Generating features for the UCI-HAR features"
   ]
  },
  {
   "cell_type": "code",
   "execution_count": 3,
   "metadata": {},
   "outputs": [],
   "source": [
    "def get_uci_har_dct_features(dataset, labels, truncated_len=None):\n",
    "    uci_har_features = []\n",
    "    # Take the DWT of each component and concat them end-to-end\n",
    "    for signal_no in range(0, len(dataset)):\n",
    "        features = []\n",
    "        for signal_comp in range(0,dataset.shape[2]):\n",
    "            signal = dataset[signal_no, :, signal_comp]\n",
    "            coeff = dct(signal)[:truncated_len]\n",
    "            features.append(list(coeff))\n",
    "        uci_har_features.append(features)\n",
    "    print(np.shape(uci_har_features))\n",
    "    X = np.array(uci_har_features).transpose(0,2,1)\n",
    "    Y = labels\n",
    "    return X, Y"
   ]
  },
  {
   "cell_type": "code",
   "execution_count": 4,
   "metadata": {},
   "outputs": [
    {
     "name": "stdout",
     "output_type": "stream",
     "text": [
      "(7352, 9, 128)\n",
      "(2947, 9, 128)\n",
      "Time for DCT preprocessing 8.428480695999998 seconds\n",
      "Training data shape: (7352, 128, 9)\n",
      "Test data shape: (2947, 128, 9)\n"
     ]
    }
   ],
   "source": [
    "truncate_len = 128\n",
    "\n",
    "t_start = perf_counter()\n",
    "x_train, y_train = get_uci_har_dct_features(uci_har_signals_train, uci_har_labels_train, \\\n",
    "                                        truncated_len=truncate_len)\n",
    "x_test, y_test = get_uci_har_dct_features(uci_har_signals_test, uci_har_labels_test, \\\n",
    "                                      truncated_len=truncate_len)\n",
    "t_stop = perf_counter()\n",
    "t_diff = t_stop-t_start\n",
    "print ('Time for DCT preprocessing {} seconds'.format(t_diff))\n",
    "print ('Training data shape: {}'.format(x_train.shape))\n",
    "print ('Test data shape: {}'.format(x_test.shape))"
   ]
  },
  {
   "cell_type": "markdown",
   "metadata": {},
   "source": [
    "# 3. Classifying the train and test sets"
   ]
  },
  {
   "cell_type": "code",
   "execution_count": 5,
   "metadata": {},
   "outputs": [
    {
     "name": "stdout",
     "output_type": "stream",
     "text": [
      "input_shape: (128, 9)\n",
      "x_train shape: (7352, 128, 9)\n",
      "7352 train samples\n",
      "2947 test samples\n"
     ]
    }
   ],
   "source": [
    "num_classes = 6\n",
    "\n",
    "batch_size = 8\n",
    "epochs = 128\n",
    "\n",
    "input_shape = np.shape(x_train)[1:]\n",
    "print('input_shape: {}'.format(input_shape))\n",
    "\n",
    "# convert the data to the right type\n",
    "x_train = x_train.astype('float32')\n",
    "x_test = x_test.astype('float32')\n",
    "\n",
    "print('x_train shape:', x_train.shape)\n",
    "print(x_train.shape[0], 'train samples')\n",
    "print(x_test.shape[0], 'test samples')\n",
    "\n",
    "# convert class vectors to binary class matrices - this is for use in the\n",
    "# categorical_crossentropy loss below\n",
    "y_train = list(y_train)\n",
    "y_train = keras.utils.to_categorical(y_train, num_classes)\n",
    "y_test = list(y_test)\n",
    "y_test = keras.utils.to_categorical(y_test, num_classes)"
   ]
  },
  {
   "cell_type": "code",
   "execution_count": 6,
   "metadata": {},
   "outputs": [
    {
     "name": "stdout",
     "output_type": "stream",
     "text": [
      "Model: \"sequential\"\n",
      "_________________________________________________________________\n",
      "Layer (type)                 Output Shape              Param #   \n",
      "=================================================================\n",
      "normalization (Normalization (None, 128, 9)            19        \n",
      "_________________________________________________________________\n",
      "conv1d (Conv1D)              (None, 63, 16)            448       \n",
      "_________________________________________________________________\n",
      "batch_normalization (BatchNo (None, 63, 16)            64        \n",
      "_________________________________________________________________\n",
      "activation (Activation)      (None, 63, 16)            0         \n",
      "_________________________________________________________________\n",
      "conv1d_1 (Conv1D)            (None, 61, 32)            1568      \n",
      "_________________________________________________________________\n",
      "batch_normalization_1 (Batch (None, 61, 32)            128       \n",
      "_________________________________________________________________\n",
      "activation_1 (Activation)    (None, 61, 32)            0         \n",
      "_________________________________________________________________\n",
      "dense (Dense)                (None, 61, 64)            2112      \n",
      "_________________________________________________________________\n",
      "batch_normalization_2 (Batch (None, 61, 64)            256       \n",
      "_________________________________________________________________\n",
      "activation_2 (Activation)    (None, 61, 64)            0         \n",
      "_________________________________________________________________\n",
      "dense_1 (Dense)              (None, 61, 96)            6240      \n",
      "_________________________________________________________________\n",
      "batch_normalization_3 (Batch (None, 61, 96)            384       \n",
      "_________________________________________________________________\n",
      "activation_3 (Activation)    (None, 61, 96)            0         \n",
      "_________________________________________________________________\n",
      "dense_2 (Dense)              (None, 61, 64)            6208      \n",
      "_________________________________________________________________\n",
      "batch_normalization_4 (Batch (None, 61, 64)            256       \n",
      "_________________________________________________________________\n",
      "activation_4 (Activation)    (None, 61, 64)            0         \n",
      "_________________________________________________________________\n",
      "dense_3 (Dense)              (None, 61, 16)            1040      \n",
      "_________________________________________________________________\n",
      "batch_normalization_5 (Batch (None, 61, 16)            64        \n",
      "_________________________________________________________________\n",
      "activation_5 (Activation)    (None, 61, 16)            0         \n",
      "_________________________________________________________________\n",
      "flatten (Flatten)            (None, 976)               0         \n",
      "_________________________________________________________________\n",
      "dense_4 (Dense)              (None, 6)                 5862      \n",
      "=================================================================\n",
      "Total params: 24,649\n",
      "Trainable params: 24,054\n",
      "Non-trainable params: 595\n",
      "_________________________________________________________________\n",
      "Time to train the network 201.025555413 seconds\n",
      "Train loss: 0.0751112625002861, Train accuracy: 0.9891186356544495\n",
      "Test loss: 0.29579958319664, Test accuracy: 0.9392602443695068\n"
     ]
    }
   ],
   "source": [
    "model = Sequential()\n",
    "\n",
    "normalizer = preprocessing.Normalization()\n",
    "normalizer.adapt(x_train)\n",
    "\n",
    "model.add(keras.Input(shape=input_shape))\n",
    "model.add(normalizer)\n",
    "model.add(Conv1D(16, kernel_size=3, strides=2))\n",
    "model.add(BatchNormalization())\n",
    "model.add(Activation('relu'))\n",
    "model.add(Conv1D(32, kernel_size=3))\n",
    "model.add(BatchNormalization())\n",
    "model.add(Activation('relu'))\n",
    "model.add(Dense(64, kernel_regularizer=keras.regularizers.l1_l2(l1=5e-5,l2=5e-5)))\n",
    "model.add(BatchNormalization())\n",
    "model.add(Activation('relu'))\n",
    "model.add(Dense(96, kernel_regularizer=keras.regularizers.l1_l2(l1=5e-4,l2=5e-4)))\n",
    "model.add(BatchNormalization())\n",
    "model.add(Activation('relu'))\n",
    "model.add(Dense(64, kernel_regularizer=keras.regularizers.l1_l2(l1=5e-5,l2=5e-5)))\n",
    "model.add(BatchNormalization())\n",
    "model.add(Activation('relu'))\n",
    "model.add(Dense(16, kernel_regularizer=keras.regularizers.l1_l2(l1=1e-5,l2=1e-5)))\n",
    "model.add(BatchNormalization())\n",
    "model.add(Activation('relu'))\n",
    "model.add(Flatten())\n",
    "model.add(Dense(num_classes, kernel_regularizer=keras.regularizers.l1_l2(l1=5e-5,l2=5e-5),\\\n",
    "                activation='softmax'))\n",
    "\n",
    "model.summary()\n",
    "\n",
    "model.compile(loss=keras.losses.categorical_crossentropy, \n",
    "              optimizer=keras.optimizers.Adam(), \n",
    "              metrics=['accuracy'])\n",
    "\n",
    "es = EarlyStopping(monitor='val_loss', verbose=0, patience=8)\n",
    "t_start = perf_counter()\n",
    "model.fit(x_train, y_train, batch_size=batch_size, \n",
    "          epochs=epochs, verbose=0, \n",
    "          validation_data=(x_test, y_test), \n",
    "          callbacks=[history,es])\n",
    "t_stop = perf_counter()\n",
    "t_diff = t_stop-t_start\n",
    "print ('Time to train the network {} seconds'.format(t_diff))\n",
    "\n",
    "train_score = model.evaluate(x_train, y_train, verbose=0)\n",
    "print('Train loss: {}, Train accuracy: {}'.format(train_score[0], train_score[1]))\n",
    "test_score = model.evaluate(x_test, y_test, verbose=0)\n",
    "print('Test loss: {}, Test accuracy: {}'.format(test_score[0], test_score[1]))"
   ]
  },
  {
   "cell_type": "code",
   "execution_count": 7,
   "metadata": {},
   "outputs": [
    {
     "data": {
      "image/png": "[encoded data removed]",
      "text/plain": [
       "<Figure size 1008x504 with 2 Axes>"
      ]
     },
     "metadata": {
      "needs_background": "light"
     },
     "output_type": "display_data"
    }
   ],
   "source": [
    "fig, axarr = plt.subplots(figsize=(14,7), ncols=2)\n",
    "axarr[0].plot(history.history['accuracy'], label='train accuracy')\n",
    "axarr[0].plot(history.history['val_accuracy'], label='test accuracy')\n",
    "axarr[0].set_xlabel('Number of Epochs', fontsize=18)\n",
    "axarr[0].set_ylabel('Accuracy', fontsize=18)\n",
    "axarr[0].set_ylim([0.5,1])\n",
    "axarr[0].legend()\n",
    "\n",
    "axarr[1].plot(history.history['loss'], label='train loss')\n",
    "axarr[1].plot(history.history['val_loss'], label='test loss')\n",
    "axarr[1].set_xlabel('Number of Epochs', fontsize=18)\n",
    "axarr[1].set_ylabel('Loss', fontsize=18)\n",
    "axarr[1].legend()\n",
    "\n",
    "plt.show()"
   ]
  },
  {
   "cell_type": "code",
   "execution_count": null,
   "metadata": {},
   "outputs": [],
   "source": []
  }
 ],
 "metadata": {
  "kernelspec": {
   "display_name": "Python 3",
   "language": "python",
   "name": "python3"
  },
  "language_info": {
   "codemirror_mode": {
    "name": "ipython",
    "version": 3
   },
   "file_extension": ".py",
   "mimetype": "text/x-python",
   "name": "python",
   "nbconvert_exporter": "python",
   "pygments_lexer": "ipython3",
   "version": "3.8.5"
  }
 },
 "nbformat": 4,
 "nbformat_minor": 4
}
